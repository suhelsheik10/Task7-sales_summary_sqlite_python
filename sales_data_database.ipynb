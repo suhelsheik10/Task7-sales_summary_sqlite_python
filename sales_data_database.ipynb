{
 "cells": [
  {
   "cell_type": "markdown",
   "id": "4cb6904d-22a4-4b01-bc19-48f36a690de5",
   "metadata": {},
   "source": [
    "### 1. Create the SQLite Database (sales_data.db)"
   ]
  },
  {
   "cell_type": "code",
   "execution_count": 1,
   "id": "21d43156-9544-43e3-8e9d-3acf89ece8a0",
   "metadata": {},
   "outputs": [],
   "source": [
    "import sqlite3"
   ]
  },
  {
   "cell_type": "code",
   "execution_count": 2,
   "id": "5e3cbb88-2e5b-4055-9d76-1bd6e2e1f54d",
   "metadata": {},
   "outputs": [],
   "source": [
    "\n",
    "# Connect and create database\n",
    "conn = sqlite3.connect(\"sales_data.db\")\n",
    "cursor = conn.cursor()"
   ]
  },
  {
   "cell_type": "code",
   "execution_count": 3,
   "id": "700d044e-180b-46e3-8d5c-134ca23c1d4e",
   "metadata": {},
   "outputs": [
    {
     "data": {
      "text/plain": [
       "<sqlite3.Cursor at 0x26d7a6b2540>"
      ]
     },
     "execution_count": 3,
     "metadata": {},
     "output_type": "execute_result"
    }
   ],
   "source": [
    "# Create sales table\n",
    "cursor.execute(\"\"\"\n",
    "CREATE TABLE IF NOT EXISTS sales (\n",
    "    id INTEGER PRIMARY KEY AUTOINCREMENT,\n",
    "    product TEXT,\n",
    "    quantity INTEGER,\n",
    "    price REAL\n",
    ")\n",
    "\"\"\")\n"
   ]
  },
  {
   "cell_type": "code",
   "execution_count": 4,
   "id": "82cfc85b-e292-4d6a-b469-af171dea61f2",
   "metadata": {},
   "outputs": [],
   "source": [
    "\n",
    "# Insert some sample data\n",
    "sample_data = [\n",
    "    (\"Apple\", 10, 2.5),\n",
    "    (\"Banana\", 20, 1.2),\n",
    "    (\"Orange\", 15, 2.0),\n",
    "    (\"Apple\", 5, 2.5),\n",
    "    (\"Banana\", 10, 1.2),\n",
    "    (\"Orange\", 8, 2.0),\n",
    "    (\"Mango\", 12, 3.0),\n",
    "]\n",
    "\n"
   ]
  },
  {
   "cell_type": "code",
   "execution_count": 5,
   "id": "8e7ae2e3-9d99-4b92-86a7-b068c33d79ed",
   "metadata": {},
   "outputs": [],
   "source": [
    "cursor.executemany(\"INSERT INTO sales (product, quantity, price) VALUES (?, ?, ?)\", sample_data)\n",
    "conn.commit()\n",
    "conn.close()\n"
   ]
  },
  {
   "cell_type": "markdown",
   "id": "0669156c-bd83-4b34-8c1a-c962e44153f9",
   "metadata": {},
   "source": [
    "### 2. Python Script to Query & Visualize"
   ]
  },
  {
   "cell_type": "code",
   "execution_count": 6,
   "id": "146046c2-7533-49b5-a627-8d1a89359ea1",
   "metadata": {},
   "outputs": [],
   "source": [
    "import sqlite3\n",
    "import pandas as pd\n",
    "import matplotlib.pyplot as plt"
   ]
  },
  {
   "cell_type": "code",
   "execution_count": 7,
   "id": "a898cb96-070e-491f-baff-9d52e340aa32",
   "metadata": {},
   "outputs": [],
   "source": [
    "\n",
    "# Connect to database\n",
    "conn = sqlite3.connect(\"sales_data.db\")"
   ]
  },
  {
   "cell_type": "code",
   "execution_count": null,
   "id": "48fbfee8-836a-4fd8-91fb-17fea0b99a5c",
   "metadata": {},
   "outputs": [],
   "source": [
    "# SQL query\n",
    "query = \"\"\"\n",
    "SELECT \n",
    "    product, \n",
    "    SUM(quantity) AS total_quantity, \n",
    "    SUM(quantity * price) AS revenue \n",
    "FROM sales \n",
    "GROUP BY product\n",
    "\"\"\"\n",
    "\n",
    "# Read into pandas DataFrame\n",
    "df = pd.read_sql_query(query, conn)\n",
    "conn.close()\n",
    "\n",
    "# Display results\n",
    "print(\"Sales Summary:\\n\", df)\n",
    "\n",
    "# Plot bar chart for revenue\n",
    "plt.figure(figsize=(8,5))\n",
    "df.plot(kind='bar', x='product', y='revenue', legend=False, color='skyblue')\n",
    "plt.title(\"Revenue per Product\")\n",
    "plt.ylabel(\"Revenue\")\n",
    "plt.xlabel(\"Product\")\n",
    "plt.tight_layout()\n",
    "plt.savefig(\"sales_chart.png\")\n",
    "plt.show()"
   ]
  }
 ],
 "metadata": {
  "kernelspec": {
   "display_name": "Python 3 (ipykernel)",
   "language": "python",
   "name": "python3"
  },
  "language_info": {
   "codemirror_mode": {
    "name": "ipython",
    "version": 3
   },
   "file_extension": ".py",
   "mimetype": "text/x-python",
   "name": "python",
   "nbconvert_exporter": "python",
   "pygments_lexer": "ipython3",
   "version": "3.13.2"
  }
 },
 "nbformat": 4,
 "nbformat_minor": 5
}
